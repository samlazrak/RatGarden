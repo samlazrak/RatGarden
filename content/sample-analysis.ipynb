{
 "cells": [
  {
   "cell_type": "markdown",
   "metadata": {},
   "source": [
    "# Sample Data Analysis Notebook\n",
    "\n",
    "This is a demonstration notebook showing various features of the Jupyter Notebook embedding plugin.\n",
    "\n",
    "## Overview\n",
    "\n",
    "In this notebook, we'll:\n",
    "- Import common data science libraries\n",
    "- Generate sample data\n",
    "- Create visualizations\n",
    "- Perform basic analysis"
   ]
  },
  {
   "cell_type": "code",
   "execution_count": null,
   "metadata": {},
   "outputs": [],
   "source": [
    "import numpy as np\n",
    "import pandas as pd\n",
    "import matplotlib.pyplot as plt\n",
    "import seaborn as sns\n",
    "\n",
    "# Set style for better plots\n",
    "plt.style.use('default')\n",
    "sns.set_palette(\"husl\")"
   ]
  },
  {
   "cell_type": "markdown",
   "metadata": {},
   "source": [
    "## Data Generation\n",
    "\n",
    "Let's create some sample data to work with:"
   ]
  },
  {
   "cell_type": "code",
   "execution_count": null,
   "metadata": {},
   "outputs": [
    {
     "name": "stdout",
     "output_type": "stream",
     "text": [
      "Dataset shape: (100, 4)\n",
      "First 5 rows:\n"
     ]
    },
    {
     "data": {
      "text/html": [
       "<div>\n",
       "<style scoped>\n",
       "    .dataframe tbody tr th:only-of-type {\n",
       "        vertical-align: middle;\n",
       "    }\n",
       "\n",
       "    .dataframe tbody tr th {\n",
       "        vertical-align: top;\n",
       "    }\n",
       "\n",
       "    .dataframe thead th {\n",
       "        text-align: right;\n",
       "    }\n",
       "</style>\n",
       "<table border=\"1\" class=\"dataframe\">\n",
       "  <thead>\n",
       "    <tr style=\"text-align: right;\">\n",
       "      <th></th>\n",
       "      <th>x</th>\n",
       "      <th>y</th>\n",
       "      <th>category</th>\n",
       "      <th>value</th>\n",
       "    </tr>\n",
       "  </thead>\n",
       "  <tbody>\n",
       "    <tr>\n",
       "      <th>0</th>\n",
       "      <td>0.37</td>\n",
       "      <td>0.95</td>\n",
       "      <td>A</td>\n",
       "      <td>42.5</td>\n",
       "    </tr>\n",
       "    <tr>\n",
       "      <th>1</th>\n",
       "      <td>0.73</td>\n",
       "      <td>0.60</td>\n",
       "      <td>B</td>\n",
       "      <td>38.2</td>\n",
       "    </tr>\n",
       "    <tr>\n",
       "      <th>2</th>\n",
       "      <td>0.56</td>\n",
       "      <td>0.16</td>\n",
       "      <td>A</td>\n",
       "      <td>55.1</td>\n",
       "    </tr>\n",
       "    <tr>\n",
       "      <th>3</th>\n",
       "      <td>0.06</td>\n",
       "      <td>0.87</td>\n",
       "      <td>C</td>\n",
       "      <td>47.8</td>\n",
       "    </tr>\n",
       "    <tr>\n",
       "      <th>4</th>\n",
       "      <td>0.02</td>\n",
       "      <td>0.98</td>\n",
       "      <td>B</td>\n",
       "      <td>51.3</td>\n",
       "    </tr>\n",
       "  </tbody>\n",
       "</table>\n",
       "</div>"
      ],
      "text/plain": [
       "      x     y category  value\n",
       "0  0.37  0.95        A   42.5\n",
       "1  0.73  0.60        B   38.2\n",
       "2  0.56  0.16        A   55.1\n",
       "3  0.06  0.87        C   47.8\n",
       "4  0.02  0.98        B   51.3"
      ]
     },
     "execution_count": 2,
     "metadata": {},
     "output_type": "execute_result"
    }
   ],
   "source": [
    "# Generate random data\n",
    "np.random.seed(42)\n",
    "n_samples = 100\n",
    "\n",
    "data = {\n",
    "    'x': np.random.random(n_samples),\n",
    "    'y': np.random.random(n_samples),\n",
    "    'category': np.random.choice(['A', 'B', 'C'], n_samples),\n",
    "    'value': np.random.normal(50, 10, n_samples)\n",
    "}\n",
    "\n",
    "df = pd.DataFrame(data)\n",
    "print(f\"Dataset shape: {df.shape}\")\n",
    "print(\"First 5 rows:\")\n",
    "df.head()"
   ]
  },
  {
   "cell_type": "markdown",
   "metadata": {},
   "source": [
    "## Statistical Summary\n",
    "\n",
    "Let's examine the basic statistics of our dataset:"
   ]
  },
  {
   "cell_type": "code",
   "execution_count": null,
   "metadata": {},
   "outputs": [
    {
     "data": {
      "text/html": [
       "<div>\n",
       "<style scoped>\n",
       "    .dataframe tbody tr th:only-of-type {\n",
       "        vertical-align: middle;\n",
       "    }\n",
       "\n",
       "    .dataframe tbody tr th {\n",
       "        vertical-align: top;\n",
       "    }\n",
       "\n",
       "    .dataframe thead th {\n",
       "        text-align: right;\n",
       "    }\n",
       "</style>\n",
       "<table border=\"1\" class=\"dataframe\">\n",
       "  <thead>\n",
       "    <tr style=\"text-align: right;\">\n",
       "      <th></th>\n",
       "      <th>x</th>\n",
       "      <th>y</th>\n",
       "      <th>value</th>\n",
       "    </tr>\n",
       "  </thead>\n",
       "  <tbody>\n",
       "    <tr>\n",
       "      <th>count</th>\n",
       "      <td>100.0</td>\n",
       "      <td>100.0</td>\n",
       "      <td>100.0</td>\n",
       "    </tr>\n",
       "    <tr>\n",
       "      <th>mean</th>\n",
       "      <td>0.55</td>\n",
       "      <td>0.44</td>\n",
       "      <td>49.67</td>\n",
       "    </tr>\n",
       "    <tr>\n",
       "      <th>std</th>\n",
       "      <td>0.29</td>\n",
       "      <td>0.27</td>\n",
       "      <td>9.78</td>\n",
       "    </tr>\n",
       "    <tr>\n",
       "      <th>min</th>\n",
       "      <td>0.02</td>\n",
       "      <td>0.00</td>\n",
       "      <td>22.68</td>\n",
       "    </tr>\n",
       "    <tr>\n",
       "      <th>25%</th>\n",
       "      <td>0.32</td>\n",
       "      <td>0.20</td>\n",
       "      <td>43.81</td>\n",
       "    </tr>\n",
       "    <tr>\n",
       "      <th>50%</th>\n",
       "      <td>0.58</td>\n",
       "      <td>0.45</td>\n",
       "      <td>50.20</td>\n",
       "    </tr>\n",
       "    <tr>\n",
       "      <th>75%</th>\n",
       "      <td>0.77</td>\n",
       "      <td>0.65</td>\n",
       "      <td>56.41</td>\n",
       "    </tr>\n",
       "    <tr>\n",
       "      <th>max</th>\n",
       "      <td>1.00</td>\n",
       "      <td>0.98</td>\n",
       "      <td>73.12</td>\n",
       "    </tr>\n",
       "  </tbody>\n",
       "</table>\n",
       "</div>"
      ],
      "text/plain": [
       "           x      y  value\n",
       "count  100.0  100.0  100.0\n",
       "mean    0.55   0.44  49.67\n",
       "std     0.29   0.27   9.78\n",
       "min     0.02   0.00  22.68\n",
       "25%     0.32   0.20  43.81\n",
       "50%     0.58   0.45  50.20\n",
       "75%     0.77   0.65  56.41\n",
       "max     1.00   0.98  73.12"
      ]
     },
     "execution_count": 3,
     "metadata": {},
     "output_type": "execute_result"
    }
   ],
   "source": [
    "df.describe().round(2)"
   ]
  },
  {
   "cell_type": "code",
   "execution_count": null,
   "metadata": {},
   "outputs": [
    {
     "name": "stdout",
     "output_type": "stream",
     "text": [
      "Category distribution:\n",
      "category\n",
      "A    36\n",
      "B    32\n",
      "C    32\n",
      "Name: count, dtype: int64\n"
     ]
    }
   ],
   "source": [
    "print(\"Category distribution:\")\n",
    "print(df['category'].value_counts())"
   ]
  },
  {
   "cell_type": "markdown",
   "metadata": {},
   "source": [
    "## Visualization\n",
    "\n",
    "Now let's create some visualizations to better understand our data:"
   ]
  },
  {
   "cell_type": "code",
   "execution_count": null,
   "metadata": {},
   "outputs": [
    {
     "data": {
      "image/png": "[encoded data removed]"
     },
     "metadata": {},
     "output_type": "display_data"
    }
   ],
   "source": [
    "# Create a scatter plot\n",
    "plt.figure(figsize=(10, 6))\n",
    "colors = {'A': '#284b63', 'B': '#84a59d', 'C': '#7b97aa'}\n",
    "\n",
    "for category in df['category'].unique():\n",
    "    mask = df['category'] == category\n",
    "    plt.scatter(df[mask]['x'], df[mask]['y'], \n",
    "               c=colors[category], label=f'Category {category}', \n",
    "               alpha=0.7, s=60)\n",
    "\n",
    "plt.xlabel('X Values')\n",
    "plt.ylabel('Y Values')\n",
    "plt.title('Scatter Plot by Category')\n",
    "plt.legend()\n",
    "plt.grid(True, alpha=0.3)\n",
    "plt.tight_layout()\n",
    "plt.show()"
   ]
  },
  {
   "cell_type": "code",
   "execution_count": null,
   "metadata": {},
   "outputs": [
    {
     "data": {
      "image/png": "[encoded data removed]"
     },
     "metadata": {},
     "output_type": "display_data"
    }
   ],
   "source": [
    "# Create a histogram of values by category\n",
    "plt.figure(figsize=(10, 6))\n",
    "\n",
    "for category in df['category'].unique():\n",
    "    data = df[df['category'] == category]['value']\n",
    "    plt.hist(data, bins=15, alpha=0.7, label=f'Category {category}', \n",
    "             color=colors[category])\n",
    "\n",
    "plt.xlabel('Value')\n",
    "plt.ylabel('Frequency')\n",
    "plt.title('Distribution of Values by Category')\n",
    "plt.legend()\n",
    "plt.grid(True, alpha=0.3)\n",
    "plt.tight_layout()\n",
    "plt.show()"
   ]
  },
  {
   "cell_type": "markdown",
   "metadata": {},
   "source": [
    "## Analysis Results\n",
    "\n",
    "Let's perform some basic statistical analysis:"
   ]
  },
  {
   "cell_type": "code",
   "execution_count": null,
   "metadata": {},
   "outputs": [
    {
     "name": "stdout",
     "output_type": "stream",
     "text": [
      "Mean values by category:\n",
      "category\n",
      "A    48.92\n",
      "B    49.85\n",
      "C    50.61\n",
      "Name: value, dtype: float64\n",
      "\n",
      "Correlation between x and y: 0.09\n",
      "Correlation between x and value: -0.12\n",
      "Correlation between y and value: 0.06\n"
     ]
    }
   ],
   "source": [
    "# Calculate mean values by category\n",
    "print(\"Mean values by category:\")\n",
    "print(df.groupby('category')['value'].mean().round(2))\n",
    "\n",
    "# Calculate correlations\n",
    "print(f\"\\nCorrelation between x and y: {df['x'].corr(df['y']):.2f}\")\n",
    "print(f\"Correlation between x and value: {df['x'].corr(df['value']):.2f}\")\n",
    "print(f\"Correlation between y and value: {df['y'].corr(df['value']):.2f}\")"
   ]
  },
  {
   "cell_type": "markdown",
   "metadata": {},
   "source": [
    "## Conclusion\n",
    "\n",
    "This sample notebook demonstrates:\n",
    "\n",
    "1. **Data Generation**: Created synthetic data with multiple variables and categories\n",
    "2. **Statistical Analysis**: Computed descriptive statistics and correlations\n",
    "3. **Visualization**: Created scatter plots and histograms to explore data patterns\n",
    "4. **Rich Output**: Displayed both tabular data and graphical visualizations\n",
    "\n",
    "The Jupyter Notebook plugin successfully renders:\n",
    "- Markdown cells with formatting\n",
    "- Code cells with syntax highlighting\n",
    "- Text outputs from print statements\n",
    "- HTML tables from pandas DataFrames\n",
    "- Matplotlib plots and visualizations\n",
    "\n",
    "This creates a seamless integration between computational notebooks and your Quartz-powered site!"
   ]
  }
 ],
 "metadata": {
  "kernelspec": {
   "display_name": "Python 3",
   "language": "python",
   "name": "python3"
  },
  "language_info": {
   "codemirror_mode": {
    "name": "ipython",
    "version": 3
   },
   "file_extension": ".py",
   "mimetype": "text/x-python",
   "name": "python",
   "nbconvert_exporter": "python",
   "pygments_lexer": "ipython3",
   "version": "3.8.0"
  }
 },
 "nbformat": 4,
 "nbformat_minor": 4
}
